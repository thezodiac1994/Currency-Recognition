{
 "cells": [
  {
   "cell_type": "code",
   "execution_count": 89,
   "metadata": {
    "scrolled": true
   },
   "outputs": [
    {
     "name": "stdout",
     "output_type": "stream",
     "text": [
      "Extracting Data...\n",
      "Training Data and label created...\n"
     ]
    }
   ],
   "source": [
    "    import numpy as np\n",
    "    import os\n",
    "    import glob\n",
    "    import re\n",
    "    \n",
    "    print(\"Extracting Data...\")\n",
    "    pathToImage =os.path.realpath(\"Dataset\")\n",
    "    imgPath = os.path.join(pathToImage,'*')\n",
    "    fileList = glob.glob(imgPath)\n",
    "    subFileList = []\n",
    "    for i in range(len(fileList)):\n",
    "        subDirectoryPath = os.path.join(fileList[i],'*');\n",
    "        subFileList.append(glob.glob(subDirectoryPath))\n",
    "    subNpArray = np.array(subFileList)\n",
    "    \n",
    "    imageList = []\n",
    "    labelList = []\n",
    "    for i in range(len(subNpArray)):\n",
    "        for j in range(len(subNpArray[i])):\n",
    "            imageDirPath = os.path.join(subNpArray[i][j],'*.jpg')\n",
    "            labels =  re.search('Dataset(.*)*.jpg', imageDirPath.replace(\"\\\\\",\"\"))\n",
    "            labels = labels.group(0).split(\"Dataset\",1)[1].replace(\"*.jpg\",\"\")\n",
    "            imagePath = glob.glob(imageDirPath)\n",
    "            for k in range(len(imagePath)):\n",
    "                imageList.append(imagePath[k])\n",
    "                labelList.append(labels)\n",
    "    imageNpArray = np.array(imageList)\n",
    "    labelNpArray = np.array(labelList)\n",
    "    np.save(\"input\",imageNpArray)\n",
    "    np.save(\"output\",labelNpArray)\n",
    "    print(\"Training Data and label created...\")\n",
    "                \n",
    "                \n",
    "    \n",
    "                \n",
    "                \n",
    "            \n",
    "\n",
    "        \n",
    "  "
   ]
  },
  {
   "cell_type": "code",
   "execution_count": null,
   "metadata": {
    "collapsed": true
   },
   "outputs": [],
   "source": []
  }
 ],
 "metadata": {
  "kernelspec": {
   "display_name": "Python 3",
   "language": "python",
   "name": "python3"
  },
  "language_info": {
   "codemirror_mode": {
    "name": "ipython",
    "version": 3
   },
   "file_extension": ".py",
   "mimetype": "text/x-python",
   "name": "python",
   "nbconvert_exporter": "python",
   "pygments_lexer": "ipython3",
   "version": "3.5.4"
  }
 },
 "nbformat": 4,
 "nbformat_minor": 2
}
